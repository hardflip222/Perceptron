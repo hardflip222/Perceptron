{
 "cells": [
  {
   "cell_type": "markdown",
   "metadata": {
    "collapsed": false
   },
   "source": [
    "# Temat: Prosty perceptron jako przykład klasyfikaotra binarnego\n",
    "## Autor: Piotr Biskup\n",
    "\n",
    "\n",
    "### 1.Wprowadzenie\n",
    "\n",
    "W ujeciu matematycznym można analiować koncepcję **perceptronu** (sztucznego neuronu) jako zadanie klasyfikcji binarnej, w której odnosimy się do dwóch klas:\n",
    "* 1 klasa pozytywna\n",
    "* -1 klasa negatywna\n",
    "Następnie definujemy **funkcję decyzyjną** $\\phi(z)$, na którą składa się kombinacja liniowa określonych wartości wejściowych $x$ oraz powiązanego z nim wektora wag $w$, gdzie $z$ nosi nazwę\n",
    "całkowitego pobudzenia ukłdu</br>\n",
    "$(z = w_{1}x_{1} + \\dots + w_{m}*x_{m})$:\n",
    "\n",
    "$$\n",
    "w =\n",
    "\\left[ \\begin{array}{c}\n",
    "w_{1} \\\\\n",
    "\\vdots \\\\\n",
    "w_{m} \n",
    "\\end{array} \\right],\n",
    "x =\n",
    "\\left[ \\begin{array}{c}\n",
    "x_{1} \\\\\n",
    "\\vdots \\\\\n",
    "x_{m} \n",
    "\\end{array} \\right]\n",
    "$$\n",
    "\n",
    "Jeżli całkowite pobudzenie z danej próbki $x^{(i)}$ jest wyższe od zdefiniowanej wartości progowej $\\theta$, to przewidujemy, że dany obiekt należy do klasy pozytywnej 1, w przeciwnym wypadku do klasy negatywnej -1. W algorytmie perceptronu funkcja decyzyjna $\\phi$ stanowi odmianę **funkcji skoku jednostkowego**:\n",
    "$$\n",
    "\\phi(z) = \\left\\{ \\begin{array}{ll}\n",
    "1 & \\textrm{gdy $z \\geq \\theta$}\\\\\n",
    "-1 & \\textrm{gdy $z<\\theta$}\\\\\n",
    "\\end{array} \\right.\n",
    "$$\n",
    "\n",
    "Możemy dla uproszczenia przenieść wartość progową $\\theta$ na lewą stronę równania i zdefiniować początkową wagę jako $w_{0} = -\\theta$ a $x_{0} = 1$, dzieki czemu całkowite pobudzenie $z$ będzie miało prostsza postać:\n",
    "\n",
    "$$\n",
    "z = w_{0}x_{0} + w_{1}x_{1} + \\dots +w_{m}x_{m} =w^Tx\n",
    "$$\n",
    "\n",
    "przy założeniu, że \n",
    "$$\n",
    "\\phi(z) = \\left\\{ \\begin{array}{ll}\n",
    "1 & \\textrm{gdy $z \\geq 0$}\\\\\n",
    "-1 & \\textrm{gdy $z<0$}\\\\\n",
    "\\end{array} \\right.\n",
    "$$\n",
    "\n",
    "Próg ujemny, czyli waga $w_{0} = -\\theta$, jest zazwyczaj nazywany **obciążeniem jednostkowym**.\n",
    "\n",
    "### 2.Reguła uczenia preceptronu.\n",
    "\n",
    "Podstawowym założniem modelu preceptronu progowego jest wprowadzenie uproszczonego mechanizmu naśladującego działąnie pojedynczej komórki newowej: albo ostanie uaktywniona albo nie.\n",
    "Z tego powodu reguła uczenia perceptronu nie jest skomplikowana i można ja opisać następującymi etapami:\n",
    "* Wprowadź wagi o wartości 0 lub niewielkich, losowych wartośicach.\n",
    "* Dla każdej próbki uczączej $x^(i)$:\n",
    "    1. Oblicz wartosć wyjściową $\\widehat{y}$\n",
    "    2. Zaktualizuj wagi\n",
    "\n",
    "W tym przypadku wartością wyjsciową jest etykieta klasy przewidziana przez wcześniej zdefiniowaną funkcje skoku jednostkowego, a równoczesną aktualizacje wagi $w_{j}$ w wektorze wag $w$ można zapisac w bardziej formalny sposób: \n",
    "$$\n",
    "w_{j} := \\Delta w_{j}\n",
    "$$\n",
    "\n",
    "Służąca do aktualizowania wagi $w_{j}$ wartość $w_{j}$ jest wyliczana za pomocą reguły uczenia perceptronu:\n",
    "$$\n",
    "\\Delta w_{j} = \\eta(y^{(i)} - \\widehat{y}^{(i)})x^{(i)}_{j}\n",
    "$$\n",
    "\n",
    "gdzie $\\eta$ jest współczynnikiem uczenia oraz $\\eta \\in [0,1]$, $y^{(i)}$ stanowi rzeczyiwstą etykietę klas $i$-tej próbki uczącej, natomiast $\\widehat{y}^{(i)}$ to przewidywana etykieta klas. Bardzo istotna jest informacja, że wszystkie wagi w wektorze wag są jednocześnie aktualizowane, co oznacza, że nie możemy ponownie przeliczyć wartości $\\widehat{y}^{(i)}$, dopóki nie zaktualizujemy wszystkich wag.<\\br>\n",
    "Zapis aktualizacji dla dwuwymiarowego zbioru danych możemy zdefiniować następujaco:\n",
    "$$\n",
    "\\Delta w_{0} = \\eta(y^{(i)} - wyjście^{(i)} \\\\\n",
    "\\Delta w_{1} = \\eta(y^{(i)} - wyjście^{(i)})x^{(i)}_{1} \\\\\n",
    "\\Delta w_{2} = \\eta(y^{(i)} - wyjście^{(i)})x^{(i)}_{2}\n",
    "$$\n",
    "\n",
    "Zobaczmy na przykładzie jak prosty jest to model uczenia. W przypadku prawidłowego przewidywania etykiety klas wagi zostają niezmienione:\n",
    "$$\n",
    "\\Delta w_{j} = \\eta(-1 - (-1))x^{(i)}_{j} = 0 \\\\\n",
    "\\Delta w_{j} = \\eta(1 - 1)x^{(i)}_{j} = 0 \n",
    "$$\n",
    "\n",
    "Jednak w przypadku nieprawidowego prognozowania wagi zostają przesunięte w kierunku pozytywnej lub negatywnej klasy docelowej:\n",
    "\n",
    "$$\n",
    "\\Delta w_{j} = \\eta(1 - (-1))x^{(i)}_{j} = \\eta*2*x^{(i)}_{j} \\\\\n",
    "\\Delta w_{j} = \\eta(-1 - 1)x^{(i)}_{j} = \\eta*(-2)*x^{(i)}_{j} \n",
    "$$\n",
    "\n",
    "Aby lepiej zrozumiec koncepcję mnożnika $x^{(i)}_{j}$, przyjrzyjmy się kolejnemu przykładow, w którym:\n",
    "$$\n",
    "y^{(i)} = 1, \\widehat{y}^{(i)} = -1, \\eta = 1\n",
    "$$\n",
    "\n",
    "Załóżmy, że $x^{(i)}_{j} = 0.5$, a my tę próbkę nieprawidłowo sklasyfikowaliśmy jako -1. W takim przypadku wagę zwiększamy o 1, przez co całkowite pobudzenie $x^{(i)}_{j} \\circ w_{j}$ będzie silniejsze w sytuacji ponownego natrafienia na tę próbkę, dzięki czemu z większym prawdopodobieństwem zostanie przekoczona wartość graniczna funkcji skokowej, a badany obiekt zostanie sklasyfikowany jako 1:\n",
    "$$\n",
    "\\Delta w^{(i)}_{j} = 1*(1-(-1))*0.5 = 2*0.5 = 1\n",
    "$$\n",
    "Aktualizacja wagi jest wprost proporcjonalna do wartości $x^{(i)}_{j}$. Załóżmy, że mamy kolejną próbkę $x^{(i)}_{j} = 2$, która została nieprawidłowo sklasyfikowana jako -1. W tej sytuacji pzesuwamy granicę decyzyjną w jeszcze większym stopniu po to, zby próbka została następnym razem właściwie sklasyfikowana:\n",
    "$$\n",
    "\\Delta w_{j} = 1*(1 - (-1))*2 = 2*2 = 4\n",
    "$$\n",
    "\n",
    "Jeżeli nie można oddzielić dwóch klas za pomocą linii granicy decyzyjnej, możemy ustalić maksymalną liczbę przebiegów uczenia (**epok**) algorytmu z wykorzystaniem danych uczących, ponieważ inaczej aktualizowalibyśmy wagi w nieskończoność.\n",
    "\n",
    "### 3. Implementacja\n",
    "\n",
    "Teraz przejdziemy do implementacji opisanego algorytmu. Przeprowadzimy klasyfikację na przykładzie danych irys.data\n",
    "![tekst alternatywny](https://miro.medium.com/max/1100/0*SHhnoaaIm36pc1bd)\n",
    "\n",
    "Dane składają sie z 150 próbek oraz 3 rodzajów irysów. Każda próbka składa się z 4 cech (długość działki, szerokość działki, długość płatka, szerokość płatka)\n",
    "W naszym przyapdku jest to klasyfikator binarny więc ograniczymy się do 100 próbek, które będą się składać z 2 klas:\n",
    "* iris - setosa\n",
    "* iris - versicolor\n",
    "oraz ograniczymy sie też do dwóch cech, aby można było pokazać je na wykresie (dwuwymiarowym):\n",
    "* długość działki\n",
    "* długość płatka\n",
    "\n",
    "Na początek wczytamy dane z pliku 'irys.data', który zawiera nasze dane:\n"
   ]
  },
  {
   "cell_type": "code",
   "execution_count": 3,
   "metadata": {
    "collapsed": false,
    "scrolled": true
   },
   "outputs": [
   ],
   "source": [
    "import csv\n",
    "data = []\n",
    "counter = 0\n",
    "with open('iris.data') as csvfile:\n",
    "    reader = csv.reader(csvfile, delimiter=',')\n",
    "    for row in reader:\n",
    "       data.append(row)\n",
    "       counter+=1\n",
    "       if counter == 100:\n",
    "            break\n"
   ]
  },
  {
   "cell_type": "markdown",
   "metadata": {
    "collapsed": false
   },
   "source": [
    "Ponieważ nasze dane są w wersji tekstowej, musimy je zamienić na wartości zmiennoprzecinkowe"
   ]
  },
  {
   "cell_type": "code",
   "execution_count": 4,
   "metadata": {
    "collapsed": false
   },
   "outputs": [
   ],
   "source": [
    "for i in range(100):\n",
    "    for j in range(4):\n",
    "        data[i][j] = float(data[i][j])\n",
    "        "
   ]
  },
  {
   "cell_type": "markdown",
   "metadata": {
    "collapsed": false
   },
   "source": [
    "Następnie musimy zamienić etykiety dla kazdej próbki na wartość liczbową. Przyjmiemy dla ułatwienia, że:\n",
    "* Iris-Setosa = 1\n",
    "* Iris-Versicolor = -1\n",
    "Wypiszmy kilka pierwszych danych oraz jedną dalszą żeby zobaczyć też inną klasę próbki:"
   ]
  },
  {
   "cell_type": "code",
   "execution_count": 5,
   "metadata": {
    "collapsed": false
   },
   "outputs": [
    {
     "name": "stdout",
     "output_type": "stream",
     "text": [
      "0: [5.1, 3.5, 1.4, 0.2, 'Iris-setosa']\n",
      "1: [4.9, 3.0, 1.4, 0.2, 'Iris-setosa']\n",
      "2: [4.7, 3.2, 1.3, 0.2, 'Iris-setosa']\n",
      "3: [4.6, 3.1, 1.5, 0.2, 'Iris-setosa']\n",
      "4: [5.0, 3.6, 1.4, 0.2, 'Iris-setosa']\n",
      "5: [5.4, 3.9, 1.7, 0.4, 'Iris-setosa']\n",
      "6: [4.6, 3.4, 1.4, 0.3, 'Iris-setosa']\n",
      "7: [5.0, 3.4, 1.5, 0.2, 'Iris-setosa']\n",
      "8: [4.4, 2.9, 1.4, 0.2, 'Iris-setosa']\n",
      "9: [4.9, 3.1, 1.5, 0.1, 'Iris-setosa']\n",
      "80: [5.5, 2.4, 3.8, 1.1, 'Iris-versicolor']\n"
     ]
    }
   ],
   "source": [
    "for i in range(10):\n",
    "    print(\"{0}: {1}\".format(i, data[i]))\n",
    "print(\"{0}: {1}\".format(80, data[80]))"
   ]
  },
  {
   "cell_type": "markdown",
   "metadata": {
    "collapsed": false
   },
   "source": [
    "Następnie zapiszmy do zmiennej listowej y przekonwertowane etykiety za pomocą list-comprehension:"
   ]
  },
  {
   "cell_type": "code",
   "execution_count": 6,
   "metadata": {
    "collapsed": false
   },
   "outputs": [
    {
     "name": "stdout",
     "output_type": "stream",
     "text": [
      "[1, 1, 1, 1, 1, 1, 1, 1, 1, 1, 1, 1, 1, 1, 1, 1, 1, 1, 1, 1, 1, 1, 1, 1, 1, 1, 1, 1, 1, 1, 1, 1, 1, 1, 1, 1, 1, 1, 1, 1, 1, 1, 1, 1, 1, 1, 1, 1, 1, 1, -1, -1, -1, -1, -1, -1, -1, -1, -1, -1, -1, -1, -1, -1, -1, -1, -1, -1, -1, -1, -1, -1, -1, -1, -1, -1, -1, -1, -1, -1, -1, -1, -1, -1, -1, -1, -1, -1, -1, -1, -1, -1, -1, -1, -1, -1, -1, -1, -1, -1]\n"
     ]
    }
   ],
   "source": [
    "y = [1 if x[4] =='Iris-setosa' else -1 for x in data]\n",
    "print(y)"
   ]
  },
  {
   "cell_type": "markdown",
   "metadata": {
    "collapsed": false
   },
   "source": [
    "Teraz w naszych danych zapiszmy przekonwertowane wartości i wypiszmy kilka:"
   ]
  },
  {
   "cell_type": "code",
   "execution_count": 7,
   "metadata": {
    "collapsed": false
   },
   "outputs": [
    {
     "name": "stdout",
     "output_type": "stream",
     "text": [
      "0: [5.1, 3.5, 1.4, 0.2, 1]\n",
      "1: [4.9, 3.0, 1.4, 0.2, 1]\n",
      "2: [4.7, 3.2, 1.3, 0.2, 1]\n",
      "3: [4.6, 3.1, 1.5, 0.2, 1]\n",
      "4: [5.0, 3.6, 1.4, 0.2, 1]\n",
      "5: [5.4, 3.9, 1.7, 0.4, 1]\n",
      "6: [4.6, 3.4, 1.4, 0.3, 1]\n",
      "7: [5.0, 3.4, 1.5, 0.2, 1]\n",
      "8: [4.4, 2.9, 1.4, 0.2, 1]\n",
      "9: [4.9, 3.1, 1.5, 0.1, 1]\n"
     ]
    }
   ],
   "source": [
    "for i in range(len(data)):\n",
    "    data[i][4] = y[i]\n",
    "for i in range(10):\n",
    "    print(\"{0}: {1}\".format(i, data[i]))"
   ]
  },
  {
   "cell_type": "markdown",
   "metadata": {
    "collapsed": false
   },
   "source": [
    "Ja widać wszystko ładnie zostało przekonwertowane. Natsępnym krokiem będzie wybór tylko dwóch cech z każdej próbki ponieważ chcemy nasze dane zobrazować na wykresie a poniważ cech jest 4 to nie da się tego pokazać."
   ]
  },
  {
   "cell_type": "code",
   "execution_count": 8,
   "metadata": {
    "collapsed": false
   },
   "outputs": [
    {
     "name": "stdout",
     "output_type": "stream",
     "text": [
      "0: [5.1, 1.4]\n",
      "1: [4.9, 1.4]\n",
      "2: [4.7, 1.3]\n",
      "3: [4.6, 1.5]\n",
      "4: [5.0, 1.4]\n",
      "5: [5.4, 1.7]\n",
      "6: [4.6, 1.4]\n",
      "7: [5.0, 1.5]\n",
      "8: [4.4, 1.4]\n",
      "9: [4.9, 1.5]\n"
     ]
    }
   ],
   "source": [
    "X = []\n",
    "for x in data:\n",
    "    a = []\n",
    "    a.append(x[0])\n",
    "    a.append(x[2])\n",
    "    X.append(a)\n",
    "\n",
    "for i in range(10):\n",
    "    print(\"{0}: {1}\".format(i, X[i]))"
   ]
  },
  {
   "cell_type": "markdown",
   "metadata": {
    "collapsed": false
   },
   "source": [
    "Udało nam się przekonwertować nasze dane na dwie cechy."
   ]
  },
  {
   "cell_type": "code",
   "execution_count": 9,
   "metadata": {
    "collapsed": false
   },
   "outputs": [
    {
     "data": {
      "image/png": "[encoded data removed]",
      "text/plain": [
       "Graphics object consisting of 2 graphics primitives"
      ]
     },
     "execution_count": 9,
     "metadata": {
     },
     "output_type": "execute_result"
    }
   ],
   "source": [
    "scatter_plot(X[0:50],marker='x', facecolor=\"green\")+scatter_plot(X[50:], marker='o', facecolor=\"blue\")"
   ]
  },
  {
   "cell_type": "markdown",
   "metadata": {
    "collapsed": false
   },
   "source": [
    "Możemy tutaj wyraźnie zauważyć, że irysy w wersji \"setosa\" (kolor zielony) są dobrze odseparowane od irysów w wersji \"versicolor\" (kolor niebieski)</br>\n",
    "Teraz naspiszemy kilka funkcji, które będą miały za zadanie nauczyć nasz perceptron, jednak najpierw musimy zdefiniować listę wag, tablicę błędów oraz współczynnik uczenia.</br>\n",
    "Te funkcje to:\n",
    "* net_input() - odpowiada za obliczenie całkwitego pobudzenia\n",
    "* fit() - odpowiada za uczenie\n",
    "* predic() - odpowiada za przewidywanie klasy\n",
    "\n",
    "Należy także wylosować początkowe wagi"
   ]
  },
  {
   "cell_type": "code",
   "execution_count": 10,
   "metadata": {
    "collapsed": false
   },
   "outputs": [
    {
     "name": "stdout",
     "output_type": "stream",
     "text": [
      "[-0.291548541309944, 0.315610228279375, 0.0399654042751854]\n"
     ]
    }
   ],
   "source": [
    "w = []\n",
    "errors = []\n",
    "eta = 0.01\n",
    "import random\n",
    "for i in range(len(X[0]) + 1):\n",
    "    w.append(random.random()-0.5)\n",
    "print(w)"
   ]
  },
  {
   "cell_type": "code",
   "execution_count": 11,
   "metadata": {
    "collapsed": false
   },
   "outputs": [
   ],
   "source": [
    "def net_input(X, w):\n",
    "    z = []\n",
    "    for i in range(len(X)):\n",
    "        tmp = 0\n",
    "        for j in range(2):\n",
    "            tmp += X[i][j]*w[j+1]\n",
    "        tmp += w[0]\n",
    "        z.append(tmp)\n",
    "    return z"
   ]
  },
  {
   "cell_type": "code",
   "execution_count": 12,
   "metadata": {
    "collapsed": false
   },
   "outputs": [
   ],
   "source": [
    "def predict(X, w):\n",
    "    phi = []\n",
    "    z = net_input(X, w)\n",
    "    for i in range(len(X)):\n",
    "        if z[i] >= 0.0: \n",
    "            phi.append(1)\n",
    "        else:\n",
    "            phi.append(-1)\n",
    "    return(phi)\n",
    "        "
   ]
  },
  {
   "cell_type": "code",
   "execution_count": 13,
   "metadata": {
    "collapsed": false
   },
   "outputs": [
   ],
   "source": [
    "def fit(X, y, w,errors, n_iter = 5, eta=0.01):\n",
    "    for n in range(n_iter):\n",
    "        y_pr = predict(X, w)\n",
    "        error = 0\n",
    "        for i in range(len(X)):\n",
    "            update = eta*(y[i] - y_pr[i])\n",
    "            for a in range(1,len(w)):\n",
    "                w[a] += update*X[i][a-1]\n",
    "            w[0] +=update\n",
    "            error += int(update != 0.0)\n",
    "        errors.append(error)\n",
    "     "
   ]
  },
  {
   "cell_type": "code",
   "execution_count": 14,
   "metadata": {
    "collapsed": false
   },
   "outputs": [
    {
     "data": {
      "text/plain": [
       "[50, 50, 50, 50, 50]"
      ]
     },
     "execution_count": 14,
     "metadata": {
     },
     "output_type": "execute_result"
    }
   ],
   "source": [
    "fit(X,y,w,errors)\n",
    "errors\n"
   ]
  },
  {
   "cell_type": "markdown",
   "metadata": {
    "collapsed": false
   },
   "source": [
    "możemy zauważyć na liście errors, że już od pewnej epoki błedów nie ma i klasyfikaotr jest dobrze nauczony"
   ]
  },
  {
   "cell_type": "markdown",
   "metadata": {
    "collapsed": false
   },
   "source": [
    "Narysujemy wykres błędów w zależności od liczby epok "
   ]
  },
  {
   "cell_type": "code",
   "execution_count": 15,
   "metadata": {
    "collapsed": false
   },
   "outputs": [
    {
     "data": {
      "image/png": "[encoded data removed]",
      "text/plain": [
       "Graphics object consisting of 2 graphics primitives"
      ]
     },
     "execution_count": 15,
     "metadata": {
     },
     "output_type": "execute_result"
    }
   ],
   "source": [
    "list_plot(errors, plotjoined=True) + list_plot(errors, faceted=True, color=\"red\", size=50) "
   ]
  },
  {
   "cell_type": "markdown",
   "metadata": {
    "collapsed": false
   },
   "source": [
    "Możemy łatwo zauważyć, 10 epok jest zupełnie wystarczajace do nauki tego preceptronu, ponieważ model osiaga zbieżnośc juz pod koniec.</br>\n",
    "Teraz spróbujemt jeszcze przewidzieć dla przykładu dwie dane."
   ]
  },
  {
   "cell_type": "code",
   "execution_count": 217,
   "metadata": {
    "collapsed": false
   },
   "outputs": [
    {
     "data": {
      "text/plain": [
       "[1, 1]"
      ]
     },
     "execution_count": 217,
     "metadata": {
     },
     "output_type": "execute_result"
    }
   ],
   "source": [
    "x = []\n",
    "x.append([5.1, 1.4]) #powinno być 1\n",
    "x.append([6.0, 4.0]) #powinno być -1\n",
    "predict(x,w)"
   ]
  },
  {
   "cell_type": "markdown",
   "metadata": {
    "collapsed": false
   },
   "source": [
    "Jak widzimy nasz model bardzo dobrze przewiduje nasz dane.</br>\n",
    "\n",
    "Na koniec policzmy skuteczność naszego modelu:\n",
    "Będzie to wartość $/frac{p}{q}$ gdzie $p$ - ilość dobrze przewidzianych etykiet a $q$ to ilosć wszystkich próbek"
   ]
  },
  {
   "cell_type": "code",
   "execution_count": 203,
   "metadata": {
    "collapsed": false
   },
   "outputs": [
    {
     "name": "stdout",
     "output_type": "stream",
     "text": [
      "Skuteczność (w procentach): \n"
     ]
    },
    {
     "data": {
      "text/plain": [
       "100.000000000000"
      ]
     },
     "execution_count": 203,
     "metadata": {
     },
     "output_type": "execute_result"
    }
   ],
   "source": [
    "yp = predict(X,w)\n",
    "p = 0\n",
    "for i in range(len(yp)):\n",
    "    if yp[i] == y[i]:\n",
    "        p+=1\n",
    "print(\"Skuteczność (w procentach): \")\n",
    "(p/100.0)*100"
   ]
  },
  {
   "cell_type": "code",
   "execution_count": 0,
   "metadata": {
    "collapsed": false
   },
   "outputs": [
   ],
   "source": [
   ]
  },
  {
   "cell_type": "code",
   "execution_count": 0,
   "metadata": {
    "collapsed": false
   },
   "outputs": [
   ],
   "source": [
   ]
  }
 ],
 "metadata": {
  "kernelspec": {
   "display_name": "SageMath (default)",
   "language": "sagemath",
   "metadata": {
    "cocalc": {
     "description": "Open-source mathematical software system",
     "priority": 10,
     "url": "https://www.sagemath.org/"
    }
   },
   "name": "sagemath"
  },
  "language_info": {
   "codemirror_mode": {
    "name": "ipython",
    "version": 2
   },
   "file_extension": ".py",
   "mimetype": "text/x-python",
   "name": "python",
   "nbconvert_exporter": "python",
   "pygments_lexer": "ipython2",
   "version": "2.7.15"
  }
 },
 "nbformat": 4,
 "nbformat_minor": 4
}